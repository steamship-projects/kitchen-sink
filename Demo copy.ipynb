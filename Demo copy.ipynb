{
 "cells": [
  {
   "cell_type": "code",
   "execution_count": 22,
   "id": "d24734b3",
   "metadata": {},
   "outputs": [],
   "source": [
    "# Imports\n",
    "from steamship import Steamship"
   ]
  },
  {
   "cell_type": "code",
   "execution_count": 23,
   "id": "0d9da3cb",
   "metadata": {},
   "outputs": [],
   "source": [
    "# Create the client\n",
    "client = Steamship(\n",
    "  apiBase=\"http://127.0.0.1:8080/api/v1\",\n",
    "  appBase=\"http://127.0.0.1:8081\",\n",
    "  profile=\"test\"\n",
    ")"
   ]
  },
  {
   "cell_type": "markdown",
   "id": "8dd449a1",
   "metadata": {},
   "source": [
    "# Plugins\n",
    "\n",
    "The Steamship engine treats every unit of processing as a plugin. You can add plugins to convert data, parse data, classify it, and so on.\n",
    "\n",
    "Let's take a look at the plugins configured on your current instance:"
   ]
  },
  {
   "cell_type": "code",
   "execution_count": 26,
   "id": "4bbba661",
   "metadata": {},
   "outputs": [],
   "source": [
    "models = client.models.listPublic().data.models"
   ]
  },
  {
   "cell_type": "code",
   "execution_count": 27,
   "id": "23c077b7",
   "metadata": {},
   "outputs": [
    {
     "name": "stdout",
     "output_type": "stream",
     "text": [
      "[importer] - builtin-importer-valueOrData-v1\n",
      "[exporter] - test-exporter-v1\n",
      "[converter] - test-converter-v1\n",
      "[parser] - test-parser-v1\n",
      "[embedder] - test-embedder-v1\n",
      "[importer] - builtin-importer-url-v1\n",
      "[converter] - builtin-converter-blockJson-v1\n",
      "[parser] - sp_en_core_web_trf\n",
      "[embedder] - st_msmarco_distilbert_base_v3\n",
      "[importer] - test-importer-valueOrData-v1\n",
      "[converter] - markdown-converter-default-v1\n",
      "[embedder] - st_paraphrase_mpnet_base_v2\n",
      "[converter] - ocr_ms_vision_default\n",
      "[converter] - html-converter-default-v1\n",
      "[converter] - acr_assembly_default\n"
     ]
    }
   ],
   "source": [
    "for model in models:\n",
    "    print(\"[{}] - {}\".format(model.modelType, model.handle))"
   ]
  },
  {
   "cell_type": "markdown",
   "id": "e32d22a4",
   "metadata": {},
   "source": [
    "Let's add some models to use. Both of these are hosted on Sagemaker.\n",
    "* A parser (SpaCy EN)\n",
    "* An embedder (Bert-based)"
   ]
  },
  {
   "cell_type": "code",
   "execution_count": 28,
   "id": "2e2ad163",
   "metadata": {},
   "outputs": [],
   "source": [
    "parser = client.models.create(\n",
    "   name='SpaCy',\n",
    "   handle='parser',\n",
    "   description='Demo of loading spacy',\n",
    "   isPublic=False,\n",
    "   modelType='parser',\n",
    "   adapterType='jsonOverHttp',\n",
    "   url='https://sp-en-cr-web-trf.model.plugin.steamship.com/parse',\n",
    "   upsert=True\n",
    ").data"
   ]
  },
  {
   "cell_type": "code",
   "execution_count": 29,
   "id": "ed5bbb04",
   "metadata": {},
   "outputs": [],
   "source": [
    "marco = client.models.create(\n",
    "   name='Marco',\n",
    "   handle='marco',\n",
    "   description='Distilbert Embeddings',\n",
    "   isPublic=False,\n",
    "   modelType='embedder',\n",
    "   adapterType='jsonOverHttp',\n",
    "   url='https://msmarco-dbert-base-3.model.plugin.steamship.com/embed',\n",
    "   upsert=True\n",
    ").data"
   ]
  },
  {
   "cell_type": "markdown",
   "id": "83853eed",
   "metadata": {},
   "source": [
    "We can see our private models here:"
   ]
  },
  {
   "cell_type": "code",
   "execution_count": 30,
   "id": "e1472cab",
   "metadata": {},
   "outputs": [
    {
     "name": "stdout",
     "output_type": "stream",
     "text": [
      "[parser] - parser\n",
      "[embedder] - marco\n"
     ]
    }
   ],
   "source": [
    "for model in client.models.listPrivate().data.models:\n",
    "    print(\"[{}] - {}\".format(model.modelType, model.handle))"
   ]
  },
  {
   "cell_type": "markdown",
   "id": "58271012",
   "metadata": {},
   "source": [
    "# Invoking our just-added Plugins"
   ]
  },
  {
   "cell_type": "code",
   "execution_count": 33,
   "id": "490c609f",
   "metadata": {},
   "outputs": [
    {
     "data": {
      "text/plain": [
       "[-0.027399681508541107,\n",
       " -0.35275447368621826,\n",
       " 0.5389035940170288,\n",
       " -0.27483126521110535,\n",
       " 0.28179123997688293,\n",
       " 0.5697582364082336,\n",
       " 0.9327279329299927,\n",
       " 0.1832217574119568,\n",
       " -0.10979442298412323,\n",
       " 0.13224680721759796]"
      ]
     },
     "execution_count": 33,
     "metadata": {},
     "output_type": "execute_result"
    }
   ],
   "source": [
    "client.embed(docs=[\"What is the meaning of this sentence\"], model=marco.handle).data.embeddings[0][:10]"
   ]
  },
  {
   "cell_type": "code",
   "execution_count": 34,
   "id": "4edd3fcc",
   "metadata": {},
   "outputs": [],
   "source": [
    "resp = client.parse(docs=[\"Hi\"], model=parser.handle)"
   ]
  },
  {
   "cell_type": "code",
   "execution_count": 35,
   "id": "a6535c80",
   "metadata": {},
   "outputs": [],
   "source": [
    "resp.wait()"
   ]
  },
  {
   "cell_type": "code",
   "execution_count": 36,
   "id": "bd9470a8",
   "metadata": {},
   "outputs": [
    {
     "data": {
      "text/plain": [
       "'succeeded'"
      ]
     },
     "execution_count": 36,
     "metadata": {},
     "output_type": "execute_result"
    }
   ],
   "source": [
    "resp.task.taskStatus"
   ]
  },
  {
   "cell_type": "code",
   "execution_count": 37,
   "id": "ec8a3a44",
   "metadata": {},
   "outputs": [
    {
     "data": {
      "text/plain": [
       "ParseResponse(blocks=[Block(client=<steamship.client.client.Steamship object at 0x107879f10>, id=None, type='doc', text=None, children=[Block(client=<steamship.client.client.Steamship object at 0x107879f10>, id=None, type='sentence', text='Hi', children=[], tokens=[Token(client=<steamship.client.client.Steamship object at 0x107879f10>, id=None, blockId=None, text='Hi', textWithWs='Hi', whitespace=None, head=None, headI=None, leftEdge=None, rightEdge=None, entType=None, entIob=None, lemma='hi', normalized=None, shape=None, prefix=None, suffix=None, isAlpha=None, isAscii=None, isDigit=None, isTitle=None, isPunct=False, isLeftPunct=None, isRightPunct=None, isSpace=None, isBracket=None, isQuote=None, isCurrency=None, likeUrl=None, likeNum=None, likeEmail=None, isOov=None, isStop=False, pos='INTJ', tag=None, dep='ROOT', lang=None, prob=None, charIndex=0, tokenIndex=0)], spans=None)], tokens=[], spans=None)])"
      ]
     },
     "execution_count": 37,
     "metadata": {},
     "output_type": "execute_result"
    }
   ],
   "source": [
    "resp.data"
   ]
  },
  {
   "cell_type": "markdown",
   "id": "7c6fe3cd",
   "metadata": {},
   "source": [
    "# Using them on a File"
   ]
  },
  {
   "cell_type": "markdown",
   "id": "40e1c8fe",
   "metadata": {},
   "source": [
    "## 1. Import the File"
   ]
  },
  {
   "cell_type": "code",
   "execution_count": 38,
   "id": "6a088005",
   "metadata": {},
   "outputs": [],
   "source": [
    "URL = \"https://washington.org/DC-information/washington-dc-history\""
   ]
  },
  {
   "cell_type": "code",
   "execution_count": 39,
   "id": "00898509",
   "metadata": {},
   "outputs": [],
   "source": [
    "doc = client.scrape(URL).data"
   ]
  },
  {
   "cell_type": "markdown",
   "id": "26469b3a",
   "metadata": {},
   "source": [
    "## 2. Convert the File"
   ]
  },
  {
   "cell_type": "code",
   "execution_count": 40,
   "id": "e7a5b677",
   "metadata": {},
   "outputs": [],
   "source": [
    "task = doc.convert(model='html-converter-default-v1')"
   ]
  },
  {
   "cell_type": "code",
   "execution_count": 41,
   "id": "69467613",
   "metadata": {},
   "outputs": [],
   "source": [
    "task.wait()"
   ]
  },
  {
   "cell_type": "markdown",
   "id": "5ecbd3f7",
   "metadata": {},
   "source": [
    "## 3. Parse the File"
   ]
  },
  {
   "cell_type": "code",
   "execution_count": 42,
   "id": "d489c827",
   "metadata": {},
   "outputs": [],
   "source": [
    "task = doc.parse(model=parser.handle)"
   ]
  },
  {
   "cell_type": "markdown",
   "id": "7a1e45f6",
   "metadata": {},
   "source": [
    "Everything in Steamship is a distributed task. A client can wait on a task that's scheduled by the engine for eventual execution in a plugin."
   ]
  },
  {
   "cell_type": "code",
   "execution_count": 43,
   "id": "f9f30a0b",
   "metadata": {},
   "outputs": [],
   "source": [
    "task.wait()"
   ]
  },
  {
   "cell_type": "markdown",
   "id": "04acdd8b",
   "metadata": {},
   "source": [
    "## Query the File"
   ]
  },
  {
   "cell_type": "code",
   "execution_count": 49,
   "id": "34e4dd77",
   "metadata": {},
   "outputs": [
    {
     "name": "stdout",
     "output_type": "stream",
     "text": [
      "[sentence] Founded on July 16, 1790, Washington, DC is unique among American cities because it was established by the Constitution of the United States to serve as the nation's capital.\n",
      "[sentence] You can read the actual line at the National Archives.\n",
      "[sentence] From its beginning, it has been embroiled in political maneuvering, sectional conflicts and issues of race, national identity, compromise and, of course, power.\n",
      "[sentence] President George Washington chose the exact site along the Potomac and Anacostia Rivers, and the city was officially founded in 1790 after both Maryland and Virginia ceded land to this new \"district,\" to be distinct and distinguished from the rest of the states.\n",
      "[sentence] To design the city, he appointed Pierre Charles L'Enfant, who presented a vision for a bold, modern city featuring grand boulevards (now the streets named for states) and ceremonial spaces reminiscent of another great world capital, L'Enfant's native Paris.\n",
      "[sentence] He planned a grid system, at which the center would be the Capitol building.\n",
      "[sentence] Even before coming of age, DC was nearly completely destroyed.\n",
      "[sentence] During the War of 1812 against Great Britain, enemy forces invaded the city and burned much of it to the ground, including the newly completed White House, the Capitol and the Library of Congress (including all of its books).\n",
      "[sentence] Thomas Jefferson later replenished the library's collection by selling off his entire library for $23,950 in 1815.\n",
      "[sentence] After the devastation, the city remained small, especially in terms of permanent residents.\n",
      "[sentence] Soon it would become smaller in physical size as well.\n",
      "[sentence] In 1847, the portion of the city that had originally belonged to Virginia was retroceded, after the voters of Alexandria elected to leave DC, feeling that they had been left out of development on the other side of the river.\n",
      "[sentence] You can still see some surviving, original markers for the District today.\n",
      "[sentence] The city only increased in size as a result of the Civil War.\n",
      "[sentence] Slaves owned in Washington were emancipated on April 16, 1862, nine months before the Emancipation Proclamation, and it therefore became a hub for freed slaves.\n",
      "[sentence] After, it remained a home to a significant and vibrant African American population, which included abolitionist Frederick Douglass.\n",
      "[sentence] A substantial army was set up just to protect the capital during the war, and the federal government grew around this administration.\n",
      "[sentence] Post-war Washington experienced substantial expansion, eventually absorbing nearby Georgetown and surrounding rural areas beyond L'Enfant's original plans.\n",
      "[sentence] The initial boundary of Washington City was Florida Avenue, originally called Boundary Street.\n",
      "[sentence] The first neighborhoods were those that grew up around the Capitol (Capitol Hill), the Center Market (Downtown), and the White House (Lafayette Square).\n",
      "[sentence] The expansion of streetcar lines in the mid-19th century spurred creation of new suburbs.\n",
      "[sentence] In 1901, the city proposed the McMillan Plan, which set out to fully complete L'Enfant's original designs.\n",
      "[sentence] This included a redesign and expansion of the National Mall, now the crown jewel of DC.\n",
      "[sentence] The city continued to expand and develop during the rest of the 20th century, though it suffered riots and civil unrest in the '60s and '70s, and many residents left inner city areas for the suburbs.\n",
      "[sentence] Today, these downtown areas are undergoing an urban renaissance, and many people are moving back into Washington itself.\n",
      "[sentence] Though a capital city, it is ironic that residents of Washington lack full self-governance.\n",
      "[sentence] Representation in Congress is limited to a non-voting delegate to the House of Representatives and a shadow senator.\n",
      "[sentence] In 1964, Washingtonians were first allowed to vote in Presidential elections; the city was allowed to elect its own mayor only in 1973.\n",
      "[sentence] It remains a vibrant and culturally diverse city today.\n",
      "[sentence] The city is rich with international cultures, African American heritage and culture and it's also one of America's most gay-friendly cities.\n",
      "[sentence] In fact, DC recognized same-sex marriage in 2010, before the Supreme Court, nearby, ruled that it was a right in 2015.\n"
     ]
    }
   ],
   "source": [
    "for block in doc.query(blockType='sentence').data.blocks:\n",
    "  print(\"[{}] {}\".format(block.type, block.text))"
   ]
  },
  {
   "cell_type": "markdown",
   "id": "89092aa1",
   "metadata": {},
   "source": [
    "## 4. Embed the File"
   ]
  },
  {
   "cell_type": "code",
   "execution_count": 20,
   "id": "f73887e9",
   "metadata": {},
   "outputs": [],
   "source": [
    "index = doc.index(model=marco.handle, blockType=\"sentence\")"
   ]
  },
  {
   "cell_type": "code",
   "execution_count": 21,
   "id": "fa51c94d",
   "metadata": {},
   "outputs": [
    {
     "name": "stdout",
     "output_type": "stream",
     "text": [
      "[0.4443884357826034] To design the city, he appointed Pierre Charles L'Enfant, who presented a vision for a bold, modern city featuring grand boulevards (now the streets named for states) and ceremonial spaces reminiscent of another great world capital, L'Enfant's native Paris.\n"
     ]
    }
   ],
   "source": [
    "for hit in index.search(\"Who was chosen to design Washington DC?\").data.hits:\n",
    "  print(\"[{}] {}\".format(hit.score, hit.value, hit.externalId, hit.externalType))"
   ]
  },
  {
   "cell_type": "code",
   "execution_count": null,
   "id": "339a565e",
   "metadata": {},
   "outputs": [],
   "source": []
  },
  {
   "cell_type": "code",
   "execution_count": null,
   "id": "a88940e0",
   "metadata": {},
   "outputs": [],
   "source": []
  },
  {
   "cell_type": "code",
   "execution_count": null,
   "id": "a50c14f1",
   "metadata": {},
   "outputs": [],
   "source": []
  }
 ],
 "metadata": {
  "interpreter": {
   "hash": "31f2aee4e71d21fbe5cf8b01ff0e069b9275f58929596ceb00d14d90e3e16cd6"
  },
  "kernelspec": {
   "display_name": "jupyter-playground",
   "language": "python",
   "name": "python3"
  },
  "language_info": {
   "codemirror_mode": {
    "name": "ipython",
    "version": 3
   },
   "file_extension": ".py",
   "mimetype": "text/x-python",
   "name": "python",
   "nbconvert_exporter": "python",
   "pygments_lexer": "ipython3",
   "version": "3.8.9"
  }
 },
 "nbformat": 4,
 "nbformat_minor": 5
}
